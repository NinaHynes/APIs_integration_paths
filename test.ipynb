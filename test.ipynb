{
 "cells": [
  {
   "cell_type": "code",
   "execution_count": 17,
   "metadata": {},
   "outputs": [],
   "source": [
    "import urllib.parse\n",
    "\n",
    "url = \"http://127.0.0.1:8000/parse-file?\"\n",
    "\n",
    "params = {\n",
    "    \n",
    "\"file_path\": \"/Users/khalidnazi/APIs_integration_paths/xml_nml_files/Library-s.xml\",\n",
    "\"file_type\": \"apple_music\"\n",
    "}\n",
    "\n",
    "url = url + urllib.parse.urlencode(params)"
   ]
  },
  {
   "cell_type": "code",
   "execution_count": 18,
   "metadata": {},
   "outputs": [
    {
     "data": {
      "text/plain": [
       "'http://127.0.0.1:8000/parse-file?file_path=%2FUsers%2Fkhalidnazi%2FAPIs_integration_paths%2Fxml_nml_files%2FLibrary-s.xml&file_type=apple_music'"
      ]
     },
     "execution_count": 18,
     "metadata": {},
     "output_type": "execute_result"
    }
   ],
   "source": [
    "url"
   ]
  },
  {
   "cell_type": "code",
   "execution_count": null,
   "metadata": {},
   "outputs": [],
   "source": []
  }
 ],
 "metadata": {
  "kernelspec": {
   "display_name": "Python 3",
   "language": "python",
   "name": "python3"
  },
  "language_info": {
   "codemirror_mode": {
    "name": "ipython",
    "version": 3
   },
   "file_extension": ".py",
   "mimetype": "text/x-python",
   "name": "python",
   "nbconvert_exporter": "python",
   "pygments_lexer": "ipython3",
   "version": "3.9.18"
  }
 },
 "nbformat": 4,
 "nbformat_minor": 2
}
